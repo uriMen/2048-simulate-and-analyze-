{
 "cells": [
  {
   "cell_type": "code",
   "execution_count": 1,
   "metadata": {},
   "outputs": [],
   "source": [
    "from selenium import webdriver\n",
    "from selenium.webdriver.common.action_chains import ActionChains\n",
    "from selenium.webdriver.common.keys import Keys\n",
    "import numpy as np\n",
    "import itertools\n",
    "\n",
    "import time"
   ]
  },
  {
   "cell_type": "code",
   "execution_count": 310,
   "metadata": {},
   "outputs": [],
   "source": [
    "url2048 = 'https://play2048.co/'\n",
    "\n",
    "class Session:\n",
    "    def __init__(self):\n",
    "        self.driver = webdriver.Chrome()\n",
    "        self.driver.get(url2048)\n",
    "        self.current_grid = self.get_tiles_grid()\n",
    "    \n",
    "    def update_grid(self):\n",
    "        self.current_grid = self.get_tiles_grid()\n",
    "\n",
    "    def end_session(self):\n",
    "        \"\"\"closes browser.\"\"\"\n",
    "        self.driver.close()\n",
    "\n",
    "    def restart_game(self):\n",
    "        restart_btn = self.driver.find_element('class name', 'restart-button')\n",
    "        restart_btn.click()\n",
    "        self.update_grid()\n",
    "\n",
    "    def right(self):\n",
    "        \"\"\"Move right.\"\"\"\n",
    "        action = ActionChains(self.driver)\n",
    "        action.key_down(Keys.ARROW_RIGHT)\n",
    "        action.perform()\n",
    "        self.update_grid()\n",
    "\n",
    "    def left(self):\n",
    "        \"\"\"Move left.\"\"\"\n",
    "        action = ActionChains(self.driver)\n",
    "        action.key_down(Keys.ARROW_LEFT)\n",
    "        action.perform()\n",
    "        self.update_grid()\n",
    "\n",
    "    def up(self):\n",
    "        \"\"\"Move up.\"\"\"\n",
    "        action = ActionChains(self.driver)\n",
    "        action.key_down(Keys.ARROW_UP)\n",
    "        action.perform()\n",
    "        self.update_grid()\n",
    "\n",
    "    def down(self):\n",
    "        \"\"\"Move down.\"\"\"\n",
    "        action = ActionChains(self.driver)\n",
    "        action.key_down(Keys.ARROW_DOWN)\n",
    "        action.perform()\n",
    "        self.update_grid()\n",
    "\n",
    "    def get_board(self):\n",
    "        \"\"\"Returns a list of web elements of 'tiles-state' on board\"\"\"\n",
    "        container = self.driver.find_element('class name', 'tile-container')\n",
    "        return container.find_elements('xpath', '*')\n",
    "\n",
    "    def get_tiles_grid(self):\n",
    "        \"\"\"Returns np.array with values of tiles.\"\"\"\n",
    "        tiles_grid = np.array([[0 for _ in range(4)] for _ in range(4)])\n",
    "        board = self.get_board()\n",
    "        for tile in board:\n",
    "            tile_desc = tile.get_attribute('class').split(' tile-')\n",
    "            position = (int(tile_desc[2].split('-')[1]) - 1,\n",
    "                        int(tile_desc[2].split('-')[2]) - 1)\n",
    "            tile_value = int(tile_desc[1])\n",
    "            tiles_grid[position] = tile_value\n",
    "        return np.transpose(tiles_grid)\n",
    "    "
   ]
  },
  {
   "cell_type": "code",
   "execution_count": 477,
   "metadata": {},
   "outputs": [],
   "source": [
    "def move_row(row):\n",
    "    \"\"\"rearrange\"\"\"\n",
    "    temp = [x for x in row if x != 0]\n",
    "    zeros = len(row) - len(temp)\n",
    "    i = 1\n",
    "    while i < len(temp):\n",
    "        if temp[-i] == temp[-i-1]:\n",
    "            temp[-i] = temp[-i] * 2\n",
    "            del temp[-i-1]\n",
    "            zeros += 1\n",
    "        i += 1\n",
    "    return [0] * zeros + temp\n",
    "\n",
    "\n",
    "\n",
    "\n",
    "def get_board_if_move(cur_grid, direction):\n",
    "    'Return board grid if moved in direction (without added tile).'\n",
    "    grid = np.copy(cur_grid)\n",
    "    \n",
    "    if direction == 'down':\n",
    "        for i in range(4):\n",
    "            rearranged_col = move_row(grid[:, i])\n",
    "            grid[:, i] = rearranged_col\n",
    "\n",
    "    elif direction == 'up':\n",
    "        for i in range(4):\n",
    "            rearranged_col = move_row(np.flip(grid[:, i]))\n",
    "            rearranged_col.reverse()\n",
    "            grid[:, i] = rearranged_col\n",
    "\n",
    "    elif direction == 'left':\n",
    "        for i in range(4):\n",
    "            rearranged_row = move_row(np.flip(grid[i, :]))\n",
    "            rearranged_row.reverse()\n",
    "            grid[i, :] = rearranged_row\n",
    "\n",
    "    elif direction == 'right':\n",
    "        for i in range(4):\n",
    "            rearranged_row = move_row(grid[i, :])\n",
    "            grid[i, :] = rearranged_row\n",
    "\n",
    "    return grid\n",
    "\n",
    "\n",
    "def get_max_tile(grid):\n",
    "    \"\"\"Returns max tile value and a list of positions.\"\"\"\n",
    "    value = np.amax(grid)\n",
    "    row, col = np.where(grid==value)\n",
    "    max_coor = list(zip(row, col))\n",
    "    return value, max_coor\n",
    "\n",
    "\n",
    "def are_neighbors(tiles_pos):\n",
    "    \"\"\"Gets a list of positions, returns True if a couple are neighbors.\"\"\"\n",
    "    for i, pos in enumerate(tiles_pos):\n",
    "        for j in range(i+1, len(tiles_pos)):\n",
    "            if ((pos[0] == tiles_pos[j][0] and\n",
    "                abs(pos[1] - tiles_pos[j][1]) == 1) or\n",
    "                (pos[1] == tiles_pos[j][1] and \n",
    "                abs(pos[0] - tiles_pos[j][0]) == 1)):\n",
    "                return True\n",
    "    return False\n",
    "\n",
    "\n",
    "def is_higher_max_value(grid1, grid2):\n",
    "    \"\"\"Returns True if grid2's max value is bigger than grid1's.\"\"\"\n",
    "    max_value_1 = get_max_tile(grid1)[0]\n",
    "    max_value_2 = get_max_tile(grid2)[0]\n",
    "    if max_value_1 > max_value_2:\n",
    "        return True\n",
    "    return False"
   ]
  },
  {
   "cell_type": "code",
   "execution_count": null,
   "metadata": {},
   "outputs": [],
   "source": []
  },
  {
   "cell_type": "code",
   "execution_count": 468,
   "metadata": {},
   "outputs": [
    {
     "data": {
      "text/plain": [
       "array([[0, 0, 0, 2],\n",
       "       [0, 0, 0, 0],\n",
       "       [0, 0, 0, 0],\n",
       "       [0, 2, 0, 0]])"
      ]
     },
     "execution_count": 468,
     "metadata": {},
     "output_type": "execute_result"
    }
   ],
   "source": [
    "new_session = Session()\n",
    "# new_session.update_grid()\n",
    "new_session.current_grid"
   ]
  },
  {
   "cell_type": "code",
   "execution_count": 474,
   "metadata": {},
   "outputs": [],
   "source": [
    "# for _ in range(3):\n",
    "new_session.right()\n",
    "new_session.left()\n",
    "# new_session.up()\n",
    "new_session.down()\n",
    "# new_session.current_grid"
   ]
  },
  {
   "cell_type": "code",
   "execution_count": 384,
   "metadata": {},
   "outputs": [
    {
     "name": "stdout",
     "output_type": "stream",
     "text": [
      "[[4 4 8 0]\n",
      " [2 2 0 0]\n",
      " [0 0 0 0]\n",
      " [2 0 0 0]]\n"
     ]
    }
   ],
   "source": [
    "print(new_session.current_grid)\n",
    "# print('----predicted----')\n",
    "# print(get_board_if_move(new_session.current_grid, 'up'))"
   ]
  },
  {
   "cell_type": "code",
   "execution_count": 402,
   "metadata": {},
   "outputs": [
    {
     "name": "stdout",
     "output_type": "stream",
     "text": [
      "<class 'numpy.ndarray'>\n",
      "---\n",
      "---\n",
      "<class 'numpy.ndarray'>\n"
     ]
    }
   ],
   "source": [
    "a = np.copy(get_board_if_move(new_session.current_grid, 'up'))\n",
    "print(type(a))\n",
    "print('---')\n",
    "# new_session.up()\n",
    "# print(new_session.current_grid - a)\n",
    "print('---')\n",
    "print(type(new_session.current_grid))"
   ]
  },
  {
   "cell_type": "code",
   "execution_count": 462,
   "metadata": {},
   "outputs": [
    {
     "data": {
      "text/plain": [
       "array([[ 1,  1, 31,  1],\n",
       "       [ 3,  2, 15,  3],\n",
       "       [ 1, 15,  6, -1],\n",
       "       [-1, -1, -1,  1]])"
      ]
     },
     "execution_count": 462,
     "metadata": {},
     "output_type": "execute_result"
    }
   ],
   "source": [
    "a"
   ]
  },
  {
   "cell_type": "code",
   "execution_count": 464,
   "metadata": {},
   "outputs": [
    {
     "data": {
      "text/plain": [
       "1"
      ]
     },
     "execution_count": 464,
     "metadata": {},
     "output_type": "execute_result"
    }
   ],
   "source": [
    "b = np.array([[2,  2,  3,  2],\n",
    "              [4,  3,  16,  4],\n",
    "              [2,  16,  7,  0],\n",
    "              [0,  0,  0,  2]])\n",
    "\n",
    "# val, pos = get_max_tile(b)\n",
    "\n",
    "# are_neighbors(pos)\n",
    "higher_or_equal_max_value(a,b)"
   ]
  },
  {
   "cell_type": "code",
   "execution_count": 478,
   "metadata": {},
   "outputs": [
    {
     "data": {
      "text/plain": [
       "{'up': False, 'down': False, 'right': False, 'left': False}"
      ]
     },
     "execution_count": 478,
     "metadata": {},
     "output_type": "execute_result"
    }
   ],
   "source": [
    "moves = dict()\n",
    "cur_grid = np.array(new_session.current_grid)\n",
    "moves['up'] = is_higher_max_value(cur_grid, get_board_if_move(cur_grid, 'up'))\n",
    "moves['down'] = is_higher_max_value(cur_grid, get_board_if_move(cur_grid, 'down'))\n",
    "moves['right'] = is_higher_max_value(cur_grid, get_board_if_move(cur_grid, 'right'))\n",
    "moves['left'] = is_higher_max_value(cur_grid, get_board_if_move(cur_grid, 'left'))\n",
    "moves"
   ]
  }
 ],
 "metadata": {
  "kernelspec": {
   "display_name": "Python 3",
   "language": "python",
   "name": "python3"
  },
  "language_info": {
   "codemirror_mode": {
    "name": "ipython",
    "version": 3
   },
   "file_extension": ".py",
   "mimetype": "text/x-python",
   "name": "python",
   "nbconvert_exporter": "python",
   "pygments_lexer": "ipython3",
   "version": "3.7.0"
  }
 },
 "nbformat": 4,
 "nbformat_minor": 2
}
