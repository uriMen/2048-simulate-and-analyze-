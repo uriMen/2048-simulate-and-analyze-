{
 "cells": [
  {
   "cell_type": "code",
   "execution_count": 52,
   "metadata": {},
   "outputs": [],
   "source": [
    "import numpy as np\n",
    "import pandas as pd\n",
    "import matplotlib.pyplot as plt\n",
    "import seaborn as sns\n",
    "import itertools\n",
    "\n",
    "%matplotlib inline"
   ]
  },
  {
   "cell_type": "code",
   "execution_count": 11,
   "metadata": {},
   "outputs": [],
   "source": [
    "df = pd.read_csv('data.txt', names=['strategy_type', 'score', 'highest_tile', 'moves_count'])"
   ]
  },
  {
   "cell_type": "code",
   "execution_count": 12,
   "metadata": {},
   "outputs": [
    {
     "data": {
      "text/html": [
       "<div>\n",
       "<style scoped>\n",
       "    .dataframe tbody tr th:only-of-type {\n",
       "        vertical-align: middle;\n",
       "    }\n",
       "\n",
       "    .dataframe tbody tr th {\n",
       "        vertical-align: top;\n",
       "    }\n",
       "\n",
       "    .dataframe thead th {\n",
       "        text-align: right;\n",
       "    }\n",
       "</style>\n",
       "<table border=\"1\" class=\"dataframe\">\n",
       "  <thead>\n",
       "    <tr style=\"text-align: right;\">\n",
       "      <th></th>\n",
       "      <th>strategy_type</th>\n",
       "      <th>score</th>\n",
       "      <th>highest_tile</th>\n",
       "      <th>moves_count</th>\n",
       "    </tr>\n",
       "  </thead>\n",
       "  <tbody>\n",
       "    <tr>\n",
       "      <th>0</th>\n",
       "      <td>nlr</td>\n",
       "      <td>404</td>\n",
       "      <td>32</td>\n",
       "      <td>63</td>\n",
       "    </tr>\n",
       "    <tr>\n",
       "      <th>1</th>\n",
       "      <td>fp</td>\n",
       "      <td>2800</td>\n",
       "      <td>256</td>\n",
       "      <td>219</td>\n",
       "    </tr>\n",
       "  </tbody>\n",
       "</table>\n",
       "</div>"
      ],
      "text/plain": [
       "  strategy_type  score  highest_tile  moves_count\n",
       "0           nlr    404            32           63\n",
       "1            fp   2800           256          219"
      ]
     },
     "execution_count": 12,
     "metadata": {},
     "output_type": "execute_result"
    }
   ],
   "source": [
    "df.head(2)"
   ]
  },
  {
   "cell_type": "code",
   "execution_count": 13,
   "metadata": {},
   "outputs": [
    {
     "data": {
      "text/html": [
       "<div>\n",
       "<style scoped>\n",
       "    .dataframe tbody tr th:only-of-type {\n",
       "        vertical-align: middle;\n",
       "    }\n",
       "\n",
       "    .dataframe tbody tr th {\n",
       "        vertical-align: top;\n",
       "    }\n",
       "\n",
       "    .dataframe thead th {\n",
       "        text-align: right;\n",
       "    }\n",
       "</style>\n",
       "<table border=\"1\" class=\"dataframe\">\n",
       "  <thead>\n",
       "    <tr style=\"text-align: right;\">\n",
       "      <th></th>\n",
       "      <th>score</th>\n",
       "      <th>highest_tile</th>\n",
       "      <th>moves_count</th>\n",
       "    </tr>\n",
       "  </thead>\n",
       "  <tbody>\n",
       "    <tr>\n",
       "      <th>count</th>\n",
       "      <td>550.000000</td>\n",
       "      <td>550.000000</td>\n",
       "      <td>550.000000</td>\n",
       "    </tr>\n",
       "    <tr>\n",
       "      <th>mean</th>\n",
       "      <td>2191.178182</td>\n",
       "      <td>185.338182</td>\n",
       "      <td>180.269091</td>\n",
       "    </tr>\n",
       "    <tr>\n",
       "      <th>std</th>\n",
       "      <td>1482.994065</td>\n",
       "      <td>121.706200</td>\n",
       "      <td>90.249080</td>\n",
       "    </tr>\n",
       "    <tr>\n",
       "      <th>min</th>\n",
       "      <td>184.000000</td>\n",
       "      <td>16.000000</td>\n",
       "      <td>38.000000</td>\n",
       "    </tr>\n",
       "    <tr>\n",
       "      <th>25%</th>\n",
       "      <td>1088.000000</td>\n",
       "      <td>128.000000</td>\n",
       "      <td>115.000000</td>\n",
       "    </tr>\n",
       "    <tr>\n",
       "      <th>50%</th>\n",
       "      <td>1762.000000</td>\n",
       "      <td>128.000000</td>\n",
       "      <td>161.000000</td>\n",
       "    </tr>\n",
       "    <tr>\n",
       "      <th>75%</th>\n",
       "      <td>2991.000000</td>\n",
       "      <td>256.000000</td>\n",
       "      <td>230.750000</td>\n",
       "    </tr>\n",
       "    <tr>\n",
       "      <th>max</th>\n",
       "      <td>8484.000000</td>\n",
       "      <td>512.000000</td>\n",
       "      <td>524.000000</td>\n",
       "    </tr>\n",
       "  </tbody>\n",
       "</table>\n",
       "</div>"
      ],
      "text/plain": [
       "             score  highest_tile  moves_count\n",
       "count   550.000000    550.000000   550.000000\n",
       "mean   2191.178182    185.338182   180.269091\n",
       "std    1482.994065    121.706200    90.249080\n",
       "min     184.000000     16.000000    38.000000\n",
       "25%    1088.000000    128.000000   115.000000\n",
       "50%    1762.000000    128.000000   161.000000\n",
       "75%    2991.000000    256.000000   230.750000\n",
       "max    8484.000000    512.000000   524.000000"
      ]
     },
     "execution_count": 13,
     "metadata": {},
     "output_type": "execute_result"
    }
   ],
   "source": [
    "df.describe()"
   ]
  },
  {
   "cell_type": "code",
   "execution_count": 14,
   "metadata": {},
   "outputs": [
    {
     "data": {
      "text/plain": [
       "rtnl    124\n",
       "tr      121\n",
       "nlr     111\n",
       "radt    100\n",
       "fp       94\n",
       "Name: strategy_type, dtype: int64"
      ]
     },
     "execution_count": 14,
     "metadata": {},
     "output_type": "execute_result"
    }
   ],
   "source": [
    "df['strategy_type'].value_counts()"
   ]
  },
  {
   "cell_type": "code",
   "execution_count": 15,
   "metadata": {},
   "outputs": [
    {
     "data": {
      "text/html": [
       "<div>\n",
       "<style scoped>\n",
       "    .dataframe tbody tr th:only-of-type {\n",
       "        vertical-align: middle;\n",
       "    }\n",
       "\n",
       "    .dataframe tbody tr th {\n",
       "        vertical-align: top;\n",
       "    }\n",
       "\n",
       "    .dataframe thead th {\n",
       "        text-align: right;\n",
       "    }\n",
       "</style>\n",
       "<table border=\"1\" class=\"dataframe\">\n",
       "  <thead>\n",
       "    <tr style=\"text-align: right;\">\n",
       "      <th></th>\n",
       "      <th>score</th>\n",
       "      <th>highest_tile</th>\n",
       "      <th>moves_count</th>\n",
       "    </tr>\n",
       "    <tr>\n",
       "      <th>strategy_type</th>\n",
       "      <th></th>\n",
       "      <th></th>\n",
       "      <th></th>\n",
       "    </tr>\n",
       "  </thead>\n",
       "  <tbody>\n",
       "    <tr>\n",
       "      <th>fp</th>\n",
       "      <td>2534.808511</td>\n",
       "      <td>233.531915</td>\n",
       "      <td>196.255319</td>\n",
       "    </tr>\n",
       "    <tr>\n",
       "      <th>nlr</th>\n",
       "      <td>1600.756757</td>\n",
       "      <td>142.558559</td>\n",
       "      <td>143.558559</td>\n",
       "    </tr>\n",
       "    <tr>\n",
       "      <th>radt</th>\n",
       "      <td>2664.160000</td>\n",
       "      <td>211.840000</td>\n",
       "      <td>219.660000</td>\n",
       "    </tr>\n",
       "    <tr>\n",
       "      <th>rtnl</th>\n",
       "      <td>3198.129032</td>\n",
       "      <td>248.516129</td>\n",
       "      <td>241.137097</td>\n",
       "    </tr>\n",
       "    <tr>\n",
       "      <th>tr</th>\n",
       "      <td>1043.041322</td>\n",
       "      <td>100.495868</td>\n",
       "      <td>106.595041</td>\n",
       "    </tr>\n",
       "  </tbody>\n",
       "</table>\n",
       "</div>"
      ],
      "text/plain": [
       "                     score  highest_tile  moves_count\n",
       "strategy_type                                        \n",
       "fp             2534.808511    233.531915   196.255319\n",
       "nlr            1600.756757    142.558559   143.558559\n",
       "radt           2664.160000    211.840000   219.660000\n",
       "rtnl           3198.129032    248.516129   241.137097\n",
       "tr             1043.041322    100.495868   106.595041"
      ]
     },
     "execution_count": 15,
     "metadata": {},
     "output_type": "execute_result"
    }
   ],
   "source": [
    "df.groupby(by='strategy_type').mean()"
   ]
  },
  {
   "cell_type": "code",
   "execution_count": 16,
   "metadata": {},
   "outputs": [
    {
     "data": {
      "text/html": [
       "<div>\n",
       "<style scoped>\n",
       "    .dataframe tbody tr th:only-of-type {\n",
       "        vertical-align: middle;\n",
       "    }\n",
       "\n",
       "    .dataframe tbody tr th {\n",
       "        vertical-align: top;\n",
       "    }\n",
       "\n",
       "    .dataframe thead th {\n",
       "        text-align: right;\n",
       "    }\n",
       "</style>\n",
       "<table border=\"1\" class=\"dataframe\">\n",
       "  <thead>\n",
       "    <tr style=\"text-align: right;\">\n",
       "      <th></th>\n",
       "      <th>score</th>\n",
       "      <th>highest_tile</th>\n",
       "      <th>moves_count</th>\n",
       "    </tr>\n",
       "    <tr>\n",
       "      <th>strategy_type</th>\n",
       "      <th></th>\n",
       "      <th></th>\n",
       "      <th></th>\n",
       "    </tr>\n",
       "  </thead>\n",
       "  <tbody>\n",
       "    <tr>\n",
       "      <th>fp</th>\n",
       "      <td>6336</td>\n",
       "      <td>512</td>\n",
       "      <td>419</td>\n",
       "    </tr>\n",
       "    <tr>\n",
       "      <th>nlr</th>\n",
       "      <td>3552</td>\n",
       "      <td>256</td>\n",
       "      <td>275</td>\n",
       "    </tr>\n",
       "    <tr>\n",
       "      <th>radt</th>\n",
       "      <td>7312</td>\n",
       "      <td>512</td>\n",
       "      <td>491</td>\n",
       "    </tr>\n",
       "    <tr>\n",
       "      <th>rtnl</th>\n",
       "      <td>8484</td>\n",
       "      <td>512</td>\n",
       "      <td>524</td>\n",
       "    </tr>\n",
       "    <tr>\n",
       "      <th>tr</th>\n",
       "      <td>2788</td>\n",
       "      <td>256</td>\n",
       "      <td>199</td>\n",
       "    </tr>\n",
       "  </tbody>\n",
       "</table>\n",
       "</div>"
      ],
      "text/plain": [
       "               score  highest_tile  moves_count\n",
       "strategy_type                                  \n",
       "fp              6336           512          419\n",
       "nlr             3552           256          275\n",
       "radt            7312           512          491\n",
       "rtnl            8484           512          524\n",
       "tr              2788           256          199"
      ]
     },
     "execution_count": 16,
     "metadata": {},
     "output_type": "execute_result"
    }
   ],
   "source": [
    "df.groupby(by='strategy_type').max()"
   ]
  },
  {
   "cell_type": "code",
   "execution_count": 17,
   "metadata": {},
   "outputs": [
    {
     "data": {
      "text/html": [
       "<div>\n",
       "<style scoped>\n",
       "    .dataframe tbody tr th:only-of-type {\n",
       "        vertical-align: middle;\n",
       "    }\n",
       "\n",
       "    .dataframe tbody tr th {\n",
       "        vertical-align: top;\n",
       "    }\n",
       "\n",
       "    .dataframe thead th {\n",
       "        text-align: right;\n",
       "    }\n",
       "</style>\n",
       "<table border=\"1\" class=\"dataframe\">\n",
       "  <thead>\n",
       "    <tr style=\"text-align: right;\">\n",
       "      <th></th>\n",
       "      <th>score</th>\n",
       "      <th>highest_tile</th>\n",
       "      <th>moves_count</th>\n",
       "    </tr>\n",
       "    <tr>\n",
       "      <th>strategy_type</th>\n",
       "      <th></th>\n",
       "      <th></th>\n",
       "      <th></th>\n",
       "    </tr>\n",
       "  </thead>\n",
       "  <tbody>\n",
       "    <tr>\n",
       "      <th>fp</th>\n",
       "      <td>576</td>\n",
       "      <td>64</td>\n",
       "      <td>71</td>\n",
       "    </tr>\n",
       "    <tr>\n",
       "      <th>nlr</th>\n",
       "      <td>184</td>\n",
       "      <td>16</td>\n",
       "      <td>38</td>\n",
       "    </tr>\n",
       "    <tr>\n",
       "      <th>radt</th>\n",
       "      <td>800</td>\n",
       "      <td>64</td>\n",
       "      <td>97</td>\n",
       "    </tr>\n",
       "    <tr>\n",
       "      <th>rtnl</th>\n",
       "      <td>352</td>\n",
       "      <td>32</td>\n",
       "      <td>59</td>\n",
       "    </tr>\n",
       "    <tr>\n",
       "      <th>tr</th>\n",
       "      <td>272</td>\n",
       "      <td>32</td>\n",
       "      <td>40</td>\n",
       "    </tr>\n",
       "  </tbody>\n",
       "</table>\n",
       "</div>"
      ],
      "text/plain": [
       "               score  highest_tile  moves_count\n",
       "strategy_type                                  \n",
       "fp               576            64           71\n",
       "nlr              184            16           38\n",
       "radt             800            64           97\n",
       "rtnl             352            32           59\n",
       "tr               272            32           40"
      ]
     },
     "execution_count": 17,
     "metadata": {},
     "output_type": "execute_result"
    }
   ],
   "source": [
    "df.groupby(by='strategy_type').min()"
   ]
  },
  {
   "cell_type": "code",
   "execution_count": 75,
   "metadata": {},
   "outputs": [
    {
     "data": {
      "text/plain": [
       "['16', '32', '64', '128', '256', '512']"
      ]
     },
     "execution_count": 75,
     "metadata": {},
     "output_type": "execute_result"
    }
   ],
   "source": [
    "tiles = df['highest_tile'].unique()\n",
    "tiles.sort()\n",
    "list(map(str, tiles))"
   ]
  },
  {
   "cell_type": "code",
   "execution_count": 18,
   "metadata": {},
   "outputs": [
    {
     "data": {
      "text/html": [
       "<div>\n",
       "<style scoped>\n",
       "    .dataframe tbody tr th:only-of-type {\n",
       "        vertical-align: middle;\n",
       "    }\n",
       "\n",
       "    .dataframe tbody tr th {\n",
       "        vertical-align: top;\n",
       "    }\n",
       "\n",
       "    .dataframe thead th {\n",
       "        text-align: right;\n",
       "    }\n",
       "</style>\n",
       "<table border=\"1\" class=\"dataframe\">\n",
       "  <thead>\n",
       "    <tr style=\"text-align: right;\">\n",
       "      <th></th>\n",
       "      <th>strategy_type</th>\n",
       "      <th>score</th>\n",
       "      <th>moves_count</th>\n",
       "    </tr>\n",
       "    <tr>\n",
       "      <th>highest_tile</th>\n",
       "      <th></th>\n",
       "      <th></th>\n",
       "      <th></th>\n",
       "    </tr>\n",
       "  </thead>\n",
       "  <tbody>\n",
       "    <tr>\n",
       "      <th>16</th>\n",
       "      <td>1</td>\n",
       "      <td>1</td>\n",
       "      <td>1</td>\n",
       "    </tr>\n",
       "    <tr>\n",
       "      <th>32</th>\n",
       "      <td>19</td>\n",
       "      <td>19</td>\n",
       "      <td>19</td>\n",
       "    </tr>\n",
       "    <tr>\n",
       "      <th>64</th>\n",
       "      <td>101</td>\n",
       "      <td>101</td>\n",
       "      <td>101</td>\n",
       "    </tr>\n",
       "    <tr>\n",
       "      <th>128</th>\n",
       "      <td>203</td>\n",
       "      <td>203</td>\n",
       "      <td>203</td>\n",
       "    </tr>\n",
       "    <tr>\n",
       "      <th>256</th>\n",
       "      <td>183</td>\n",
       "      <td>183</td>\n",
       "      <td>183</td>\n",
       "    </tr>\n",
       "    <tr>\n",
       "      <th>512</th>\n",
       "      <td>43</td>\n",
       "      <td>43</td>\n",
       "      <td>43</td>\n",
       "    </tr>\n",
       "  </tbody>\n",
       "</table>\n",
       "</div>"
      ],
      "text/plain": [
       "              strategy_type  score  moves_count\n",
       "highest_tile                                   \n",
       "16                        1      1            1\n",
       "32                       19     19           19\n",
       "64                      101    101          101\n",
       "128                     203    203          203\n",
       "256                     183    183          183\n",
       "512                      43     43           43"
      ]
     },
     "execution_count": 18,
     "metadata": {},
     "output_type": "execute_result"
    }
   ],
   "source": [
    "df.groupby(by='highest_tile').count()"
   ]
  },
  {
   "cell_type": "code",
   "execution_count": 137,
   "metadata": {},
   "outputs": [],
   "source": [
    "# series= df[df['strategy_type'] == 'nlr']['highest_tile'].value_counts()\n",
    "# # type(x)\n",
    "# x= series.index\n",
    "# y= series.values\n",
    "# print(x, y)\n",
    "# plt.bar(x, y, align='center', width=10)\n",
    "# plt.xticks(x)"
   ]
  },
  {
   "cell_type": "code",
   "execution_count": 176,
   "metadata": {
    "scrolled": false
   },
   "outputs": [
    {
     "data": {
      "image/png": "[encoded data removed]",
      "text/plain": [
       "<Figure size 1080x1440 with 15 Axes>"
      ]
     },
     "metadata": {
      "needs_background": "light"
     },
     "output_type": "display_data"
    }
   ],
   "source": [
    "fig, axs = plt.subplots(5, 3, figsize=(15, 20), sharex='col')\n",
    "strategies = df['strategy_type'].unique()\n",
    "\n",
    "axs[0, 0].set_title('Highest Tile Distribution')\n",
    "axs[0, 1].set_title('Score Distribution')\n",
    "axs[0, 2].set_title('Moves Count Distribution')\n",
    "\n",
    "for i in range(5):\n",
    "    axs[i, 0].annotate(f'Strategy: {strategies[i]}', xy=(0, 0.5),\n",
    "                       xycoords=axs[i, 0].yaxis.label,\n",
    "                       size='large', ha='right', va='center')\n",
    "\n",
    "for i in range(5):\n",
    "    series = df[df['strategy_type'] == strategies[i]]['highest_tile'].value_counts()\n",
    "    axs[i, 0].bar(x=series.index, height=series.values, align='center', width=15)\n",
    "    axs[i, 0].set_xticks(tiles)\n",
    "    \n",
    "    axs[i, 1].hist(x=df[df['strategy_type'] == strategies[i]]['score'], data=df, bins=30)\n",
    "#     axs[i, 0].set_xticks(np.linspace(100, 9000, 20))\n",
    "    axs[i, 2].hist(x=df[df['strategy_type'] == strategies[i]]['moves_count'], data=df, bins=30)\n",
    "\n",
    "fig.tight_layout()"
   ]
  },
  {
   "cell_type": "code",
   "execution_count": 182,
   "metadata": {},
   "outputs": [
    {
     "data": {
      "text/plain": [
       "2"
      ]
     },
     "execution_count": 182,
     "metadata": {},
     "output_type": "execute_result"
    }
   ],
   "source": [
    "# for i, j in itertools.product(range(1, 4), range(1, 4)):\n",
    "#     print(i,j)\n",
    "f = False\n",
    "y = 3 if f else 2\n",
    "y"
   ]
  },
  {
   "cell_type": "code",
   "execution_count": 178,
   "metadata": {},
   "outputs": [
    {
     "data": {
      "text/plain": [
       "array([[0, 0, 4, 2],\n",
       "       [0, 0, 8, 4],\n",
       "       [0, 0, 0, 4],\n",
       "       [0, 2, 2, 3]])"
      ]
     },
     "execution_count": 178,
     "metadata": {},
     "output_type": "execute_result"
    }
   ],
   "source": [
    "b= np.array([[0, 0, 4, 2],[0, 0, 8, 4],[0, 0, 0, 4],[0, 2, 2, 3]])\n",
    "b"
   ]
  }
 ],
 "metadata": {
  "kernelspec": {
   "display_name": "Python 3",
   "language": "python",
   "name": "python3"
  },
  "language_info": {
   "codemirror_mode": {
    "name": "ipython",
    "version": 3
   },
   "file_extension": ".py",
   "mimetype": "text/x-python",
   "name": "python",
   "nbconvert_exporter": "python",
   "pygments_lexer": "ipython3",
   "version": "3.7.0"
  }
 },
 "nbformat": 4,
 "nbformat_minor": 2
}
